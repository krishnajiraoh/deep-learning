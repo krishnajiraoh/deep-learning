{
 "cells": [
  {
   "cell_type": "markdown",
   "metadata": {},
   "source": [
    "# Import libs"
   ]
  },
  {
   "cell_type": "code",
   "execution_count": 75,
   "metadata": {
    "ExecuteTime": {
     "end_time": "2022-02-16T13:32:50.587642Z",
     "start_time": "2022-02-16T13:32:50.579648Z"
    }
   },
   "outputs": [],
   "source": [
    "import tensorflow as tf\n",
    "from tensorflow import keras\n",
    "import tensorflow_hub as hub\n",
    "\n",
    "import tensorflow_text as text\n",
    "\n",
    "from sklearn.model_selection import train_test_split\n",
    "from sklearn.metrics.pairwise import cosine_similarity\n",
    "from sklearn.metrics import confusion_matrix, classification_report\n",
    "\n",
    "import matplotlib.pyplot as plt\n",
    "import seaborn as sns"
   ]
  },
  {
   "cell_type": "markdown",
   "metadata": {
    "heading_collapsed": true
   },
   "source": [
    "# Load Dataset"
   ]
  },
  {
   "cell_type": "code",
   "execution_count": 17,
   "metadata": {
    "ExecuteTime": {
     "end_time": "2022-02-16T11:31:09.357057Z",
     "start_time": "2022-02-16T11:31:09.327033Z"
    },
    "hidden": true
   },
   "outputs": [
    {
     "data": {
      "text/html": [
       "<div>\n",
       "<style scoped>\n",
       "    .dataframe tbody tr th:only-of-type {\n",
       "        vertical-align: middle;\n",
       "    }\n",
       "\n",
       "    .dataframe tbody tr th {\n",
       "        vertical-align: top;\n",
       "    }\n",
       "\n",
       "    .dataframe thead th {\n",
       "        text-align: right;\n",
       "    }\n",
       "</style>\n",
       "<table border=\"1\" class=\"dataframe\">\n",
       "  <thead>\n",
       "    <tr style=\"text-align: right;\">\n",
       "      <th></th>\n",
       "      <th>Category</th>\n",
       "      <th>Message</th>\n",
       "    </tr>\n",
       "  </thead>\n",
       "  <tbody>\n",
       "    <tr>\n",
       "      <th>0</th>\n",
       "      <td>ham</td>\n",
       "      <td>Go until jurong point, crazy.. Available only ...</td>\n",
       "    </tr>\n",
       "    <tr>\n",
       "      <th>1</th>\n",
       "      <td>ham</td>\n",
       "      <td>Ok lar... Joking wif u oni...</td>\n",
       "    </tr>\n",
       "    <tr>\n",
       "      <th>2</th>\n",
       "      <td>spam</td>\n",
       "      <td>Free entry in 2 a wkly comp to win FA Cup fina...</td>\n",
       "    </tr>\n",
       "    <tr>\n",
       "      <th>3</th>\n",
       "      <td>ham</td>\n",
       "      <td>U dun say so early hor... U c already then say...</td>\n",
       "    </tr>\n",
       "    <tr>\n",
       "      <th>4</th>\n",
       "      <td>ham</td>\n",
       "      <td>Nah I don't think he goes to usf, he lives aro...</td>\n",
       "    </tr>\n",
       "  </tbody>\n",
       "</table>\n",
       "</div>"
      ],
      "text/plain": [
       "  Category                                            Message\n",
       "0      ham  Go until jurong point, crazy.. Available only ...\n",
       "1      ham                      Ok lar... Joking wif u oni...\n",
       "2     spam  Free entry in 2 a wkly comp to win FA Cup fina...\n",
       "3      ham  U dun say so early hor... U c already then say...\n",
       "4      ham  Nah I don't think he goes to usf, he lives aro..."
      ]
     },
     "execution_count": 17,
     "metadata": {},
     "output_type": "execute_result"
    }
   ],
   "source": [
    "import pandas as pd\n",
    "\n",
    "df = pd.read_csv(\"spam.csv\")\n",
    "df.head(5)"
   ]
  },
  {
   "cell_type": "markdown",
   "metadata": {
    "heading_collapsed": true
   },
   "source": [
    "# Preprocess \n",
    "Downsample , Train-test split"
   ]
  },
  {
   "cell_type": "code",
   "execution_count": 18,
   "metadata": {
    "ExecuteTime": {
     "end_time": "2022-02-16T11:31:09.373035Z",
     "start_time": "2022-02-16T11:31:09.359034Z"
    },
    "hidden": true
   },
   "outputs": [
    {
     "data": {
      "text/plain": [
       "ham     4825\n",
       "spam     747\n",
       "Name: Category, dtype: int64"
      ]
     },
     "execution_count": 18,
     "metadata": {},
     "output_type": "execute_result"
    }
   ],
   "source": [
    "df[\"Category\"].value_counts()"
   ]
  },
  {
   "cell_type": "code",
   "execution_count": 19,
   "metadata": {
    "ExecuteTime": {
     "end_time": "2022-02-16T11:31:09.389035Z",
     "start_time": "2022-02-16T11:31:09.376036Z"
    },
    "hidden": true
   },
   "outputs": [
    {
     "data": {
      "text/plain": [
       "(747, 2)"
      ]
     },
     "execution_count": 19,
     "metadata": {},
     "output_type": "execute_result"
    }
   ],
   "source": [
    "df_spam = df[df[\"Category\"] == \"spam\"]\n",
    "df_spam.shape"
   ]
  },
  {
   "cell_type": "code",
   "execution_count": 20,
   "metadata": {
    "ExecuteTime": {
     "end_time": "2022-02-16T11:31:09.405038Z",
     "start_time": "2022-02-16T11:31:09.393035Z"
    },
    "hidden": true
   },
   "outputs": [
    {
     "data": {
      "text/plain": [
       "(4825, 2)"
      ]
     },
     "execution_count": 20,
     "metadata": {},
     "output_type": "execute_result"
    }
   ],
   "source": [
    "df_ham = df[df[\"Category\"] == \"ham\"]\n",
    "df_ham.shape"
   ]
  },
  {
   "cell_type": "code",
   "execution_count": 21,
   "metadata": {
    "ExecuteTime": {
     "end_time": "2022-02-16T11:31:09.421034Z",
     "start_time": "2022-02-16T11:31:09.408035Z"
    },
    "hidden": true
   },
   "outputs": [
    {
     "data": {
      "text/plain": [
       "(747, 2)"
      ]
     },
     "execution_count": 21,
     "metadata": {},
     "output_type": "execute_result"
    }
   ],
   "source": [
    "df_ham_down_sampled = df_ham.sample(df_spam.shape[0])\n",
    "df_ham_down_sampled.shape"
   ]
  },
  {
   "cell_type": "code",
   "execution_count": 22,
   "metadata": {
    "ExecuteTime": {
     "end_time": "2022-02-16T11:31:09.437036Z",
     "start_time": "2022-02-16T11:31:09.425034Z"
    },
    "hidden": true
   },
   "outputs": [
    {
     "data": {
      "text/plain": [
       "(1494, 2)"
      ]
     },
     "execution_count": 22,
     "metadata": {},
     "output_type": "execute_result"
    }
   ],
   "source": [
    "df_balanced = pd.concat([df_ham_down_sampled, df_spam])\n",
    "df_balanced.shape"
   ]
  },
  {
   "cell_type": "code",
   "execution_count": 23,
   "metadata": {
    "ExecuteTime": {
     "end_time": "2022-02-16T11:31:09.469031Z",
     "start_time": "2022-02-16T11:31:09.445036Z"
    },
    "hidden": true
   },
   "outputs": [
    {
     "data": {
      "text/plain": [
       "1    747\n",
       "0    747\n",
       "Name: spam, dtype: int64"
      ]
     },
     "execution_count": 23,
     "metadata": {},
     "output_type": "execute_result"
    }
   ],
   "source": [
    "df_balanced['spam'] = df_balanced[\"Category\"].apply(lambda x : 1 if x == \"spam\" else 0)\n",
    "df_balanced['spam'].value_counts()"
   ]
  },
  {
   "cell_type": "code",
   "execution_count": 24,
   "metadata": {
    "ExecuteTime": {
     "end_time": "2022-02-16T11:31:09.485031Z",
     "start_time": "2022-02-16T11:31:09.475038Z"
    },
    "hidden": true
   },
   "outputs": [],
   "source": [
    "X_train, X_test, y_train, y_test = train_test_split(df_balanced['Message'],df_balanced['spam'], test_size=0.2, random_state=42, stratify=df_balanced['spam'])"
   ]
  },
  {
   "cell_type": "code",
   "execution_count": 25,
   "metadata": {
    "ExecuteTime": {
     "end_time": "2022-02-16T11:31:09.501035Z",
     "start_time": "2022-02-16T11:31:09.490035Z"
    },
    "hidden": true
   },
   "outputs": [
    {
     "data": {
      "text/plain": [
       "1225    You are a winner U have been specially selecte...\n",
       "4953    Welcome to Select, an O2 service with added be...\n",
       "1754       Jus came back fr lunch wif my sis only. U leh?\n",
       "2145    FreeMsg: Hey - I'm Buffy. 25 and love to satis...\n",
       "4086    Orange brings you ringtones from all time Char...\n",
       "Name: Message, dtype: object"
      ]
     },
     "execution_count": 25,
     "metadata": {},
     "output_type": "execute_result"
    }
   ],
   "source": [
    "X_train.head()"
   ]
  },
  {
   "cell_type": "code",
   "execution_count": 26,
   "metadata": {
    "ExecuteTime": {
     "end_time": "2022-02-16T11:31:09.517034Z",
     "start_time": "2022-02-16T11:31:09.505037Z"
    },
    "hidden": true
   },
   "outputs": [
    {
     "data": {
      "text/plain": [
       "(1195,)"
      ]
     },
     "execution_count": 26,
     "metadata": {},
     "output_type": "execute_result"
    }
   ],
   "source": [
    "X_train.shape"
   ]
  },
  {
   "cell_type": "code",
   "execution_count": 27,
   "metadata": {
    "ExecuteTime": {
     "end_time": "2022-02-16T11:31:09.533034Z",
     "start_time": "2022-02-16T11:31:09.523035Z"
    },
    "hidden": true
   },
   "outputs": [
    {
     "data": {
      "text/plain": [
       "(299,)"
      ]
     },
     "execution_count": 27,
     "metadata": {},
     "output_type": "execute_result"
    }
   ],
   "source": [
    "X_test.shape"
   ]
  },
  {
   "cell_type": "code",
   "execution_count": 28,
   "metadata": {
    "ExecuteTime": {
     "end_time": "2022-02-16T11:31:09.549034Z",
     "start_time": "2022-02-16T11:31:09.537036Z"
    },
    "hidden": true
   },
   "outputs": [
    {
     "data": {
      "text/plain": [
       "(1195,)"
      ]
     },
     "execution_count": 28,
     "metadata": {},
     "output_type": "execute_result"
    }
   ],
   "source": [
    "y_train.shape"
   ]
  },
  {
   "cell_type": "code",
   "execution_count": 29,
   "metadata": {
    "ExecuteTime": {
     "end_time": "2022-02-16T11:31:09.565036Z",
     "start_time": "2022-02-16T11:31:09.552034Z"
    },
    "hidden": true
   },
   "outputs": [
    {
     "data": {
      "text/plain": [
       "(299,)"
      ]
     },
     "execution_count": 29,
     "metadata": {},
     "output_type": "execute_result"
    }
   ],
   "source": [
    "y_test.shape"
   ]
  },
  {
   "cell_type": "markdown",
   "metadata": {
    "heading_collapsed": true
   },
   "source": [
    "# Practice embedding with BERT"
   ]
  },
  {
   "cell_type": "code",
   "execution_count": 31,
   "metadata": {
    "ExecuteTime": {
     "end_time": "2022-02-16T11:31:58.338616Z",
     "start_time": "2022-02-16T11:31:41.624490Z"
    },
    "hidden": true
   },
   "outputs": [],
   "source": [
    "preprocess_url = \"https://tfhub.dev/tensorflow/bert_en_uncased_preprocess/3\"\n",
    "encoder_url = \"https://tfhub.dev/tensorflow/bert_en_uncased_L-12_H-768_A-12/4\"\n",
    "\n",
    "bert_preprocess = hub.KerasLayer(\"bert_en_uncased_preprocess_3\")\n",
    "bert_encoder = hub.KerasLayer(\"bert_en_uncased_L-12_H-768_A-12_4\")"
   ]
  },
  {
   "cell_type": "code",
   "execution_count": 39,
   "metadata": {
    "ExecuteTime": {
     "end_time": "2022-02-16T11:34:41.904904Z",
     "start_time": "2022-02-16T11:34:41.890910Z"
    },
    "hidden": true
   },
   "outputs": [],
   "source": [
    "def get_sentence_embedding(sentences):\n",
    "    \n",
    "    preprocessed_text = bert_preprocess(sentences)\n",
    "    return bert_encoder(preprocessed_text)['pooled_output']"
   ]
  },
  {
   "cell_type": "code",
   "execution_count": 40,
   "metadata": {
    "ExecuteTime": {
     "end_time": "2022-02-16T11:34:42.635366Z",
     "start_time": "2022-02-16T11:34:42.113369Z"
    },
    "hidden": true
   },
   "outputs": [
    {
     "data": {
      "text/plain": [
       "<tf.Tensor: shape=(2, 768), dtype=float32, numpy=\n",
       "array([[-0.84351695, -0.5132726 , -0.888457  , ..., -0.7474886 ,\n",
       "        -0.75314736,  0.91964483],\n",
       "       [-0.8720835 , -0.5054398 , -0.9444669 , ..., -0.8584752 ,\n",
       "        -0.7174536 ,  0.8808299 ]], dtype=float32)>"
      ]
     },
     "execution_count": 40,
     "metadata": {},
     "output_type": "execute_result"
    }
   ],
   "source": [
    "get_sentence_embedding([\n",
    "    \"500$ discount. hurry up\", \n",
    "    \"Bhavin, are you up for a volleybal game tomorrow?\"]\n",
    ")"
   ]
  },
  {
   "cell_type": "code",
   "execution_count": 42,
   "metadata": {
    "ExecuteTime": {
     "end_time": "2022-02-16T11:35:12.327619Z",
     "start_time": "2022-02-16T11:35:10.327625Z"
    },
    "hidden": true
   },
   "outputs": [],
   "source": [
    "e = get_sentence_embedding([\n",
    "    \"banana\", \n",
    "    \"grapes\",\n",
    "    \"mango\",\n",
    "    \"jeff bezos\",\n",
    "    \"elon musk\",\n",
    "    \"bill gates\"\n",
    "])"
   ]
  },
  {
   "cell_type": "code",
   "execution_count": 50,
   "metadata": {
    "ExecuteTime": {
     "end_time": "2022-02-16T11:37:21.484413Z",
     "start_time": "2022-02-16T11:37:21.464415Z"
    },
    "hidden": true
   },
   "outputs": [
    {
     "data": {
      "text/plain": [
       "array([[0.9911089]], dtype=float32)"
      ]
     },
     "execution_count": 50,
     "metadata": {},
     "output_type": "execute_result"
    }
   ],
   "source": [
    "cosine_similarity([e[0]] , [e[1]])"
   ]
  },
  {
   "cell_type": "code",
   "execution_count": 51,
   "metadata": {
    "ExecuteTime": {
     "end_time": "2022-02-16T11:37:28.888846Z",
     "start_time": "2022-02-16T11:37:28.872810Z"
    },
    "hidden": true
   },
   "outputs": [
    {
     "data": {
      "text/plain": [
       "array([[0.99540985]], dtype=float32)"
      ]
     },
     "execution_count": 51,
     "metadata": {},
     "output_type": "execute_result"
    }
   ],
   "source": [
    "cosine_similarity([e[0]] , [e[2]])"
   ]
  },
  {
   "cell_type": "code",
   "execution_count": 54,
   "metadata": {
    "ExecuteTime": {
     "end_time": "2022-02-16T11:38:20.563000Z",
     "start_time": "2022-02-16T11:38:20.545007Z"
    },
    "hidden": true
   },
   "outputs": [
    {
     "data": {
      "text/plain": [
       "array([[0.95718396]], dtype=float32)"
      ]
     },
     "execution_count": 54,
     "metadata": {},
     "output_type": "execute_result"
    }
   ],
   "source": [
    "cosine_similarity([e[0]] , [e[5]])"
   ]
  },
  {
   "cell_type": "code",
   "execution_count": 55,
   "metadata": {
    "ExecuteTime": {
     "end_time": "2022-02-16T11:38:36.348233Z",
     "start_time": "2022-02-16T11:38:36.328233Z"
    },
    "hidden": true
   },
   "outputs": [
    {
     "data": {
      "text/plain": [
       "array([[0.8933631]], dtype=float32)"
      ]
     },
     "execution_count": 55,
     "metadata": {},
     "output_type": "execute_result"
    }
   ],
   "source": [
    "cosine_similarity([e[0]] , [e[4]])"
   ]
  },
  {
   "cell_type": "code",
   "execution_count": 56,
   "metadata": {
    "ExecuteTime": {
     "end_time": "2022-02-16T11:38:50.890678Z",
     "start_time": "2022-02-16T11:38:50.880647Z"
    },
    "hidden": true
   },
   "outputs": [
    {
     "data": {
      "text/plain": [
       "array([[0.98720354]], dtype=float32)"
      ]
     },
     "execution_count": 56,
     "metadata": {},
     "output_type": "execute_result"
    }
   ],
   "source": [
    "cosine_similarity([e[3]] , [e[4]])"
   ]
  },
  {
   "cell_type": "markdown",
   "metadata": {},
   "source": [
    "# Model - Functional "
   ]
  },
  {
   "cell_type": "code",
   "execution_count": 57,
   "metadata": {
    "ExecuteTime": {
     "end_time": "2022-02-16T11:46:05.711003Z",
     "start_time": "2022-02-16T11:46:05.312003Z"
    }
   },
   "outputs": [],
   "source": [
    "#BERT layers\n",
    "text_input = keras.layers.Input(shape=(), dtype=tf.string, name=\"text_input\")\n",
    "preprocessed_text = bert_preprocess(text_input)\n",
    "output = bert_encoder(preprocessed_text)\n",
    "\n",
    "#NN layers\n",
    "l = keras.layers.Dropout(0.1)(output['pooled_output'])\n",
    "l = keras.layers.Dense(1, activation='sigmoid')(l)\n",
    "\n",
    "model = tf.keras.Model(inputs=[text_input], outputs=[l])"
   ]
  },
  {
   "cell_type": "code",
   "execution_count": 58,
   "metadata": {
    "ExecuteTime": {
     "end_time": "2022-02-16T11:47:52.676655Z",
     "start_time": "2022-02-16T11:47:52.639533Z"
    }
   },
   "outputs": [],
   "source": [
    "METRICS = [\n",
    "    tf.keras.metrics.BinaryAccuracy(name=\"BinaryAccuracy\"),\n",
    "    tf.keras.metrics.Precision(name=\"Precision\"),\n",
    "    tf.keras.metrics.Recall(name=\"Recall\")\n",
    "]\n",
    "\n",
    "model.compile(optimizer='adam',\n",
    "             loss='binary_crossentropy',\n",
    "             metrics=METRICS)"
   ]
  },
  {
   "cell_type": "code",
   "execution_count": 59,
   "metadata": {
    "ExecuteTime": {
     "end_time": "2022-02-16T12:24:03.305965Z",
     "start_time": "2022-02-16T11:48:13.879636Z"
    }
   },
   "outputs": [
    {
     "name": "stdout",
     "output_type": "stream",
     "text": [
      "Epoch 1/5\n",
      "38/38 [==============================] - 456s 12s/step - loss: 0.6370 - BinaryAccuracy: 0.6711 - Precision: 0.6705 - Recall: 0.6739\n",
      "Epoch 2/5\n",
      "38/38 [==============================] - 430s 11s/step - loss: 0.5118 - BinaryAccuracy: 0.8192 - Precision: 0.8316 - Recall: 0.8010\n",
      "Epoch 3/5\n",
      "38/38 [==============================] - 411s 11s/step - loss: 0.4369 - BinaryAccuracy: 0.8653 - Precision: 0.8507 - Recall: 0.8863\n",
      "Epoch 4/5\n",
      "38/38 [==============================] - 436s 11s/step - loss: 0.3941 - BinaryAccuracy: 0.8812 - Precision: 0.8689 - Recall: 0.8980\n",
      "Epoch 5/5\n",
      "38/38 [==============================] - 415s 11s/step - loss: 0.3628 - BinaryAccuracy: 0.8745 - Precision: 0.8578 - Recall: 0.8980\n"
     ]
    },
    {
     "data": {
      "text/plain": [
       "<keras.callbacks.History at 0x1c61a51fc88>"
      ]
     },
     "execution_count": 59,
     "metadata": {},
     "output_type": "execute_result"
    }
   ],
   "source": [
    "model.fit(X_train, y_train, epochs=5)"
   ]
  },
  {
   "cell_type": "code",
   "execution_count": 60,
   "metadata": {
    "ExecuteTime": {
     "end_time": "2022-02-16T13:25:46.628159Z",
     "start_time": "2022-02-16T13:24:21.229758Z"
    }
   },
   "outputs": [
    {
     "name": "stdout",
     "output_type": "stream",
     "text": [
      "10/10 [==============================] - 85s 9s/step - loss: 0.3088 - BinaryAccuracy: 0.9197 - Precision: 0.8931 - Recall: 0.9530\n"
     ]
    },
    {
     "data": {
      "text/plain": [
       "[0.30880823731422424,\n",
       " 0.9197324514389038,\n",
       " 0.893081784248352,\n",
       " 0.9530201554298401]"
      ]
     },
     "execution_count": 60,
     "metadata": {},
     "output_type": "execute_result"
    }
   ],
   "source": [
    "model.evaluate(X_test,y_test)"
   ]
  },
  {
   "cell_type": "code",
   "execution_count": 61,
   "metadata": {
    "ExecuteTime": {
     "end_time": "2022-02-16T13:27:23.244042Z",
     "start_time": "2022-02-16T13:25:46.880157Z"
    }
   },
   "outputs": [
    {
     "data": {
      "text/plain": [
       "array([[0.29026666],\n",
       "       [0.21012321],\n",
       "       [0.7812507 ],\n",
       "       [0.8461901 ],\n",
       "       [0.28097832],\n",
       "       [0.23263755],\n",
       "       [0.3389612 ],\n",
       "       [0.8022563 ],\n",
       "       [0.5245777 ],\n",
       "       [0.5245777 ],\n",
       "       [0.83362174],\n",
       "       [0.19458571],\n",
       "       [0.45170227],\n",
       "       [0.30810842],\n",
       "       [0.8188367 ],\n",
       "       [0.24687788],\n",
       "       [0.04721877],\n",
       "       [0.6709864 ],\n",
       "       [0.8560513 ],\n",
       "       [0.6473556 ],\n",
       "       [0.08610505],\n",
       "       [0.76941323],\n",
       "       [0.8837811 ],\n",
       "       [0.12985134],\n",
       "       [0.5458669 ],\n",
       "       [0.1092639 ],\n",
       "       [0.92178077],\n",
       "       [0.77124584],\n",
       "       [0.12060389],\n",
       "       [0.77604616],\n",
       "       [0.6690471 ],\n",
       "       [0.8985118 ],\n",
       "       [0.44174078],\n",
       "       [0.8213501 ],\n",
       "       [0.8486233 ],\n",
       "       [0.720039  ],\n",
       "       [0.5426673 ],\n",
       "       [0.9062923 ],\n",
       "       [0.29729685],\n",
       "       [0.21127671],\n",
       "       [0.5425793 ],\n",
       "       [0.30215445],\n",
       "       [0.25827527],\n",
       "       [0.6501658 ],\n",
       "       [0.15355965],\n",
       "       [0.12007484],\n",
       "       [0.20135981],\n",
       "       [0.37496996],\n",
       "       [0.81905913],\n",
       "       [0.7262236 ],\n",
       "       [0.4780884 ],\n",
       "       [0.6814692 ],\n",
       "       [0.88725686],\n",
       "       [0.5827829 ],\n",
       "       [0.4514702 ],\n",
       "       [0.8968902 ],\n",
       "       [0.8022395 ],\n",
       "       [0.8807912 ],\n",
       "       [0.81692654],\n",
       "       [0.3277169 ],\n",
       "       [0.89586127],\n",
       "       [0.15889645],\n",
       "       [0.8063212 ],\n",
       "       [0.22931534],\n",
       "       [0.41045538],\n",
       "       [0.13843343],\n",
       "       [0.86368394],\n",
       "       [0.08610505],\n",
       "       [0.58621645],\n",
       "       [0.4685428 ],\n",
       "       [0.8549781 ],\n",
       "       [0.6065215 ],\n",
       "       [0.07754061],\n",
       "       [0.19117644],\n",
       "       [0.93109745],\n",
       "       [0.82029617],\n",
       "       [0.55917335],\n",
       "       [0.2533536 ],\n",
       "       [0.800308  ],\n",
       "       [0.42226318],\n",
       "       [0.8425157 ],\n",
       "       [0.8560513 ],\n",
       "       [0.74246824],\n",
       "       [0.9480449 ],\n",
       "       [0.11675531],\n",
       "       [0.9383682 ],\n",
       "       [0.18512088],\n",
       "       [0.85854626],\n",
       "       [0.92908525],\n",
       "       [0.17331147],\n",
       "       [0.84631944],\n",
       "       [0.80074143],\n",
       "       [0.72401583],\n",
       "       [0.6690472 ],\n",
       "       [0.07563147],\n",
       "       [0.7750598 ],\n",
       "       [0.22616148],\n",
       "       [0.84219843],\n",
       "       [0.77747536],\n",
       "       [0.77949655],\n",
       "       [0.0875265 ],\n",
       "       [0.24041119],\n",
       "       [0.30942285],\n",
       "       [0.9314735 ],\n",
       "       [0.54014695],\n",
       "       [0.32087314],\n",
       "       [0.64903325],\n",
       "       [0.06044409],\n",
       "       [0.8275179 ],\n",
       "       [0.58188194],\n",
       "       [0.72183114],\n",
       "       [0.7958801 ],\n",
       "       [0.1162768 ],\n",
       "       [0.41589236],\n",
       "       [0.86876893],\n",
       "       [0.18720326],\n",
       "       [0.08766371],\n",
       "       [0.07483014],\n",
       "       [0.7260909 ],\n",
       "       [0.8941309 ],\n",
       "       [0.16180578],\n",
       "       [0.12207907],\n",
       "       [0.9220321 ],\n",
       "       [0.11596173],\n",
       "       [0.27089867],\n",
       "       [0.8430675 ],\n",
       "       [0.17012206],\n",
       "       [0.14894626],\n",
       "       [0.1095711 ],\n",
       "       [0.89428246],\n",
       "       [0.07987735],\n",
       "       [0.35023093],\n",
       "       [0.06248382],\n",
       "       [0.5823932 ],\n",
       "       [0.32564807],\n",
       "       [0.07317132],\n",
       "       [0.12029198],\n",
       "       [0.21988022],\n",
       "       [0.82547873],\n",
       "       [0.30445504],\n",
       "       [0.13744491],\n",
       "       [0.79857075],\n",
       "       [0.34589452],\n",
       "       [0.1255512 ],\n",
       "       [0.05860665],\n",
       "       [0.13553727],\n",
       "       [0.7965933 ],\n",
       "       [0.20938689],\n",
       "       [0.45121863],\n",
       "       [0.02833658],\n",
       "       [0.09673363],\n",
       "       [0.49746573],\n",
       "       [0.92735136],\n",
       "       [0.7036814 ],\n",
       "       [0.97024834],\n",
       "       [0.24716553],\n",
       "       [0.23731628],\n",
       "       [0.8934167 ],\n",
       "       [0.82886285],\n",
       "       [0.8611778 ],\n",
       "       [0.7564641 ],\n",
       "       [0.28819665],\n",
       "       [0.51435065],\n",
       "       [0.5825276 ],\n",
       "       [0.12266415],\n",
       "       [0.9505353 ],\n",
       "       [0.77567476],\n",
       "       [0.19612274],\n",
       "       [0.3765626 ],\n",
       "       [0.34031147],\n",
       "       [0.9470017 ],\n",
       "       [0.61436564],\n",
       "       [0.07485792],\n",
       "       [0.69959295],\n",
       "       [0.14315072],\n",
       "       [0.214811  ],\n",
       "       [0.8730664 ],\n",
       "       [0.16334966],\n",
       "       [0.22175336],\n",
       "       [0.18867469],\n",
       "       [0.23835918],\n",
       "       [0.2957929 ],\n",
       "       [0.9044939 ],\n",
       "       [0.3611393 ],\n",
       "       [0.07217747],\n",
       "       [0.96596515],\n",
       "       [0.93656576],\n",
       "       [0.13189575],\n",
       "       [0.66613483],\n",
       "       [0.59863365],\n",
       "       [0.44106582],\n",
       "       [0.59229565],\n",
       "       [0.6071662 ],\n",
       "       [0.5040937 ],\n",
       "       [0.7441801 ],\n",
       "       [0.72588885],\n",
       "       [0.33187294],\n",
       "       [0.187107  ],\n",
       "       [0.26409626],\n",
       "       [0.27915972],\n",
       "       [0.208426  ],\n",
       "       [0.3632501 ],\n",
       "       [0.9434652 ],\n",
       "       [0.8477498 ],\n",
       "       [0.9141534 ],\n",
       "       [0.9075953 ],\n",
       "       [0.11876005],\n",
       "       [0.8569581 ],\n",
       "       [0.8149194 ],\n",
       "       [0.2910835 ],\n",
       "       [0.35570043],\n",
       "       [0.6736601 ],\n",
       "       [0.56869304],\n",
       "       [0.20568132],\n",
       "       [0.540502  ],\n",
       "       [0.9267795 ],\n",
       "       [0.2144261 ],\n",
       "       [0.78467363],\n",
       "       [0.20303965],\n",
       "       [0.14522448],\n",
       "       [0.15075478],\n",
       "       [0.17855057],\n",
       "       [0.8852272 ],\n",
       "       [0.76186705],\n",
       "       [0.4676858 ],\n",
       "       [0.76572263],\n",
       "       [0.9523932 ],\n",
       "       [0.7503892 ],\n",
       "       [0.88799417],\n",
       "       [0.12007484],\n",
       "       [0.9231268 ],\n",
       "       [0.20852742],\n",
       "       [0.27685955],\n",
       "       [0.11915728],\n",
       "       [0.18353269],\n",
       "       [0.12375051],\n",
       "       [0.47579437],\n",
       "       [0.8957101 ],\n",
       "       [0.6730473 ],\n",
       "       [0.187107  ],\n",
       "       [0.5272787 ],\n",
       "       [0.18352214],\n",
       "       [0.341872  ],\n",
       "       [0.8810795 ],\n",
       "       [0.4588757 ],\n",
       "       [0.89428246],\n",
       "       [0.93821084],\n",
       "       [0.15519094],\n",
       "       [0.21380502],\n",
       "       [0.87851226],\n",
       "       [0.7185873 ],\n",
       "       [0.87326133],\n",
       "       [0.8759267 ],\n",
       "       [0.29740578],\n",
       "       [0.5601343 ],\n",
       "       [0.76226115],\n",
       "       [0.17080888],\n",
       "       [0.05228397],\n",
       "       [0.7011199 ],\n",
       "       [0.8569581 ],\n",
       "       [0.866116  ],\n",
       "       [0.16500628],\n",
       "       [0.9267795 ],\n",
       "       [0.45575437],\n",
       "       [0.91521513],\n",
       "       [0.8595778 ],\n",
       "       [0.0886474 ],\n",
       "       [0.93473005],\n",
       "       [0.78256905],\n",
       "       [0.6553519 ],\n",
       "       [0.6936639 ],\n",
       "       [0.6869745 ],\n",
       "       [0.14857745],\n",
       "       [0.13714042],\n",
       "       [0.54161036],\n",
       "       [0.8304081 ],\n",
       "       [0.9639622 ],\n",
       "       [0.75122833],\n",
       "       [0.5043404 ],\n",
       "       [0.8620821 ],\n",
       "       [0.82846475],\n",
       "       [0.85767055],\n",
       "       [0.86843264],\n",
       "       [0.29698363],\n",
       "       [0.94519675],\n",
       "       [0.36557415],\n",
       "       [0.9115745 ],\n",
       "       [0.14609098],\n",
       "       [0.4578189 ],\n",
       "       [0.19609946],\n",
       "       [0.80240977],\n",
       "       [0.7224503 ],\n",
       "       [0.8108765 ],\n",
       "       [0.3931639 ],\n",
       "       [0.83326924],\n",
       "       [0.4459158 ],\n",
       "       [0.7804409 ],\n",
       "       [0.842325  ],\n",
       "       [0.48640797]], dtype=float32)"
      ]
     },
     "execution_count": 61,
     "metadata": {},
     "output_type": "execute_result"
    }
   ],
   "source": [
    "y_pred = model.predict(X_test)\n",
    "y_pred"
   ]
  },
  {
   "cell_type": "code",
   "execution_count": 64,
   "metadata": {
    "ExecuteTime": {
     "end_time": "2022-02-16T13:27:47.072342Z",
     "start_time": "2022-02-16T13:27:47.066335Z"
    }
   },
   "outputs": [
    {
     "data": {
      "text/plain": [
       "array([0.29026666, 0.21012321, 0.7812507 , 0.8461901 , 0.28097832],\n",
       "      dtype=float32)"
      ]
     },
     "execution_count": 64,
     "metadata": {},
     "output_type": "execute_result"
    }
   ],
   "source": [
    "y_pred = y_pred.flatten()\n",
    "y_pred[0:5]"
   ]
  },
  {
   "cell_type": "code",
   "execution_count": 67,
   "metadata": {
    "ExecuteTime": {
     "end_time": "2022-02-16T13:28:51.298620Z",
     "start_time": "2022-02-16T13:28:51.282361Z"
    }
   },
   "outputs": [
    {
     "data": {
      "text/plain": [
       "array([0., 0., 1., 1., 0.], dtype=float32)"
      ]
     },
     "execution_count": 67,
     "metadata": {},
     "output_type": "execute_result"
    }
   ],
   "source": [
    "y_pred = np.round(y_pred)\n",
    "y_pred[0:5]"
   ]
  },
  {
   "cell_type": "code",
   "execution_count": 70,
   "metadata": {
    "ExecuteTime": {
     "end_time": "2022-02-16T13:29:52.747100Z",
     "start_time": "2022-02-16T13:29:52.739101Z"
    }
   },
   "outputs": [
    {
     "data": {
      "text/plain": [
       "array([[133,  17],\n",
       "       [  7, 142]], dtype=int64)"
      ]
     },
     "execution_count": 70,
     "metadata": {},
     "output_type": "execute_result"
    }
   ],
   "source": [
    "cm = confusion_matrix(y_test, y_pred)\n",
    "cm"
   ]
  },
  {
   "cell_type": "code",
   "execution_count": 73,
   "metadata": {
    "ExecuteTime": {
     "end_time": "2022-02-16T13:31:54.040675Z",
     "start_time": "2022-02-16T13:31:53.883676Z"
    }
   },
   "outputs": [
    {
     "data": {
      "text/plain": [
       "Text(33.0, 0.5, 'Truth')"
      ]
     },
     "execution_count": 73,
     "metadata": {},
     "output_type": "execute_result"
    },
    {
     "data": {
      "image/png": "[encoded data removed]",
      "text/plain": [
       "<Figure size 432x288 with 2 Axes>"
      ]
     },
     "metadata": {
      "needs_background": "light"
     },
     "output_type": "display_data"
    }
   ],
   "source": [
    "sns.heatmap(cm, fmt='d', annot=True)\n",
    "plt.xlabel(\"Prediction\")\n",
    "plt.ylabel(\"Truth\")"
   ]
  },
  {
   "cell_type": "code",
   "execution_count": 76,
   "metadata": {
    "ExecuteTime": {
     "end_time": "2022-02-16T13:32:55.360882Z",
     "start_time": "2022-02-16T13:32:55.346881Z"
    }
   },
   "outputs": [
    {
     "name": "stdout",
     "output_type": "stream",
     "text": [
      "              precision    recall  f1-score   support\n",
      "\n",
      "           0       0.95      0.89      0.92       150\n",
      "           1       0.89      0.95      0.92       149\n",
      "\n",
      "    accuracy                           0.92       299\n",
      "   macro avg       0.92      0.92      0.92       299\n",
      "weighted avg       0.92      0.92      0.92       299\n",
      "\n"
     ]
    }
   ],
   "source": [
    "print(classification_report(y_test,y_pred))"
   ]
  },
  {
   "cell_type": "code",
   "execution_count": 77,
   "metadata": {
    "ExecuteTime": {
     "end_time": "2022-02-16T16:14:47.439329Z",
     "start_time": "2022-02-16T16:14:24.791789Z"
    }
   },
   "outputs": [
    {
     "name": "stderr",
     "output_type": "stream",
     "text": [
      "WARNING:absl:Found untraced functions such as restored_function_body, restored_function_body, restored_function_body, restored_function_body, restored_function_body while saving (showing 5 of 366). These functions will not be directly callable after loading.\n"
     ]
    },
    {
     "name": "stdout",
     "output_type": "stream",
     "text": [
      "INFO:tensorflow:Assets written to: model\\assets\n"
     ]
    },
    {
     "name": "stderr",
     "output_type": "stream",
     "text": [
      "INFO:tensorflow:Assets written to: model\\assets\n"
     ]
    }
   ],
   "source": [
    "model.save(\"model\")"
   ]
  },
  {
   "cell_type": "code",
   "execution_count": 78,
   "metadata": {
    "ExecuteTime": {
     "end_time": "2022-02-16T16:47:22.420541Z",
     "start_time": "2022-02-16T16:47:07.277005Z"
    }
   },
   "outputs": [
    {
     "name": "stderr",
     "output_type": "stream",
     "text": [
      "WARNING:absl:Found untraced functions such as restored_function_body, restored_function_body, restored_function_body, restored_function_body, restored_function_body while saving (showing 5 of 366). These functions will not be directly callable after loading.\n"
     ]
    },
    {
     "name": "stdout",
     "output_type": "stream",
     "text": [
      "INFO:tensorflow:Assets written to: saved_models/1\\assets\n"
     ]
    },
    {
     "name": "stderr",
     "output_type": "stream",
     "text": [
      "INFO:tensorflow:Assets written to: saved_models/1\\assets\n"
     ]
    }
   ],
   "source": [
    "model.save(\"saved_models/1\")"
   ]
  },
  {
   "cell_type": "code",
   "execution_count": 79,
   "metadata": {
    "ExecuteTime": {
     "end_time": "2022-02-16T16:47:37.202164Z",
     "start_time": "2022-02-16T16:47:22.899541Z"
    }
   },
   "outputs": [
    {
     "name": "stderr",
     "output_type": "stream",
     "text": [
      "WARNING:absl:Found untraced functions such as restored_function_body, restored_function_body, restored_function_body, restored_function_body, restored_function_body while saving (showing 5 of 366). These functions will not be directly callable after loading.\n"
     ]
    },
    {
     "name": "stdout",
     "output_type": "stream",
     "text": [
      "INFO:tensorflow:Assets written to: saved_models/2\\assets\n"
     ]
    },
    {
     "name": "stderr",
     "output_type": "stream",
     "text": [
      "INFO:tensorflow:Assets written to: saved_models/2\\assets\n"
     ]
    }
   ],
   "source": [
    "model.save(\"saved_models/2\")"
   ]
  },
  {
   "cell_type": "code",
   "execution_count": 80,
   "metadata": {
    "ExecuteTime": {
     "end_time": "2022-02-16T16:47:54.353312Z",
     "start_time": "2022-02-16T16:47:37.490160Z"
    }
   },
   "outputs": [
    {
     "name": "stderr",
     "output_type": "stream",
     "text": [
      "WARNING:absl:Found untraced functions such as restored_function_body, restored_function_body, restored_function_body, restored_function_body, restored_function_body while saving (showing 5 of 366). These functions will not be directly callable after loading.\n"
     ]
    },
    {
     "name": "stdout",
     "output_type": "stream",
     "text": [
      "INFO:tensorflow:Assets written to: saved_models/3\\assets\n"
     ]
    },
    {
     "name": "stderr",
     "output_type": "stream",
     "text": [
      "INFO:tensorflow:Assets written to: saved_models/3\\assets\n"
     ]
    }
   ],
   "source": [
    "model.save(\"saved_models/3\")"
   ]
  },
  {
   "cell_type": "code",
   "execution_count": null,
   "metadata": {},
   "outputs": [],
   "source": []
  }
 ],
 "metadata": {
  "kernelspec": {
   "display_name": "Python 3",
   "language": "python",
   "name": "python3"
  },
  "language_info": {
   "codemirror_mode": {
    "name": "ipython",
    "version": 3
   },
   "file_extension": ".py",
   "mimetype": "text/x-python",
   "name": "python",
   "nbconvert_exporter": "python",
   "pygments_lexer": "ipython3",
   "version": "3.7.3"
  },
  "toc": {
   "base_numbering": 1,
   "nav_menu": {},
   "number_sections": true,
   "sideBar": true,
   "skip_h1_title": false,
   "title_cell": "Table of Contents",
   "title_sidebar": "Contents",
   "toc_cell": false,
   "toc_position": {},
   "toc_section_display": true,
   "toc_window_display": false
  },
  "varInspector": {
   "cols": {
    "lenName": 16,
    "lenType": 16,
    "lenVar": 40
   },
   "kernels_config": {
    "python": {
     "delete_cmd_postfix": "",
     "delete_cmd_prefix": "del ",
     "library": "var_list.py",
     "varRefreshCmd": "print(var_dic_list())"
    },
    "r": {
     "delete_cmd_postfix": ") ",
     "delete_cmd_prefix": "rm(",
     "library": "var_list.r",
     "varRefreshCmd": "cat(var_dic_list()) "
    }
   },
   "types_to_exclude": [
    "module",
    "function",
    "builtin_function_or_method",
    "instance",
    "_Feature"
   ],
   "window_display": false
  }
 },
 "nbformat": 4,
 "nbformat_minor": 4
}
